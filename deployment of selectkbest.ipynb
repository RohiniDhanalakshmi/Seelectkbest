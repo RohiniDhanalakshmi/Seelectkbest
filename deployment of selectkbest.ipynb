{
 "cells": [
  {
   "cell_type": "code",
   "execution_count": 4,
   "id": "f94e354f-365c-48e8-ad8b-6b98e00664ed",
   "metadata": {},
   "outputs": [
    {
     "ename": "NameError",
     "evalue": "name 'result' is not defined",
     "output_type": "error",
     "traceback": [
      "\u001b[1;31m---------------------------------------------------------------------------\u001b[0m",
      "\u001b[1;31mNameError\u001b[0m                                 Traceback (most recent call last)",
      "Cell \u001b[1;32mIn[4], line 4\u001b[0m\n\u001b[0;32m      2\u001b[0m \u001b[38;5;28;01mfrom\u001b[39;00m  \u001b[38;5;21;01mSelectK\u001b[39;00m  \u001b[38;5;28;01mimport\u001b[39;00m selectk_classification\n\u001b[0;32m      3\u001b[0m \u001b[38;5;66;03m#selectk_classification('acclog', 'accsvml', 'accsvmnl', 'accknn', 'accnav', 'accdes', 'accrf')\u001b[39;00m\n\u001b[1;32m----> 4\u001b[0m \u001b[43mresult\u001b[49m\n",
      "\u001b[1;31mNameError\u001b[0m: name 'result' is not defined"
     ]
    }
   ],
   "source": [
    "import pandas as pd \n",
    "from  SelectK  import selectk_classification\n",
    "#selectk_classification('acclog', 'accsvml', 'accsvmnl', 'accknn', 'accnav', 'accdes', 'accrf')\n",
    "result"
   ]
  },
  {
   "cell_type": "code",
   "execution_count": null,
   "id": "47dd4aa1-393b-4b7b-be03-cbbb70f3b462",
   "metadata": {},
   "outputs": [],
   "source": []
  },
  {
   "cell_type": "code",
   "execution_count": null,
   "id": "6a88b326-05b2-4202-a9ec-0ef2222a6831",
   "metadata": {},
   "outputs": [],
   "source": []
  },
  {
   "cell_type": "code",
   "execution_count": null,
   "id": "849ec6d2-af2b-46c6-9a21-a9a1b086bd01",
   "metadata": {},
   "outputs": [],
   "source": []
  },
  {
   "cell_type": "code",
   "execution_count": null,
   "id": "994e9c65-cbbb-49de-8fab-c878ae5a1be5",
   "metadata": {},
   "outputs": [],
   "source": []
  },
  {
   "cell_type": "code",
   "execution_count": null,
   "id": "45d7a56b-4375-4037-9704-0250409f7d3f",
   "metadata": {},
   "outputs": [],
   "source": []
  },
  {
   "cell_type": "code",
   "execution_count": null,
   "id": "e9021d1c-b590-47a8-bcb9-7dd215eb9454",
   "metadata": {},
   "outputs": [],
   "source": []
  },
  {
   "cell_type": "code",
   "execution_count": null,
   "id": "ebd3093d-cd8a-42c4-a2da-c3114c52b315",
   "metadata": {},
   "outputs": [],
   "source": []
  }
 ],
 "metadata": {
  "kernelspec": {
   "display_name": "Python 3 (ipykernel)",
   "language": "python",
   "name": "python3"
  },
  "language_info": {
   "codemirror_mode": {
    "name": "ipython",
    "version": 3
   },
   "file_extension": ".py",
   "mimetype": "text/x-python",
   "name": "python",
   "nbconvert_exporter": "python",
   "pygments_lexer": "ipython3",
   "version": "3.10.14"
  }
 },
 "nbformat": 4,
 "nbformat_minor": 5
}
